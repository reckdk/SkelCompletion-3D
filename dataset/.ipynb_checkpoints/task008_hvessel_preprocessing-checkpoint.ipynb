{
 "cells": [
  {
   "cell_type": "markdown",
   "id": "4dd891e6",
   "metadata": {},
   "source": [
    "## Notebook for preparing MSD-Task08-HVessel dataset.\n",
    "- Considering that the vascular area in original CT scan is only limited in a small region, we crop vascular area out of the CT scan for efficiency.\n",
    "- Download and prepare the MSD-Task08-HVessel dataset as instructed in nnUNet format, then modify the path accordingly to run the notebook. Refer to `cropvessel()` for padding sizes.\n",
    "- We also provide the visualization script. You may skip this and process the dataset directly."
   ]
  },
  {
   "cell_type": "code",
   "execution_count": 16,
   "id": "8eeae55c",
   "metadata": {},
   "outputs": [],
   "source": [
    "import os\n",
    "from glob import glob\n",
    "from tqdm import tqdm\n",
    "import pandas as pd\n",
    "import shutil\n",
    "\n",
    "import nibabel\n",
    "import napari\n",
    "import numpy as np\n",
    "\n",
    "from skimage.morphology import skeletonize\n",
    "from skimage.measure import label as sk_label\n",
    "from scipy.ndimage import zoom\n",
    "\n",
    "from matplotlib import pyplot as plt\n",
    "%matplotlib inline\n",
    "\n",
    "origdataset_dir = '/home/oct3090/codes/datasets/nnUNet_used/nnUNet_raw_data_base/nnUNet_raw_data/Task008_HepaticVessel/'"
   ]
  },
  {
   "cell_type": "code",
   "execution_count": 426,
   "id": "fc100aa4",
   "metadata": {
    "scrolled": true
   },
   "outputs": [],
   "source": [
    "# load image as integers\n",
    "img_path = '../../datasets/nnUNet_used/nnUNet_raw_data_base/nnUNet_raw_data/Task008_HepaticVessel/imagesTr/hepaticvessel_018_0000.nii.gz'\n",
    "img = nibabel.load(img_path).get_fdata().astype(int)\n",
    "\n",
    "label_path = '../../datasets/nnUNet_used/nnUNet_raw_data_base/nnUNet_raw_data/Task008_HepaticVessel/labelsTr/hepaticvessel_018.nii.gz'\n",
    "label = nibabel.load(label_path).get_fdata().astype(np.uint8)\n"
   ]
  },
  {
   "cell_type": "code",
   "execution_count": 288,
   "id": "2890fd56",
   "metadata": {
    "scrolled": true
   },
   "outputs": [
    {
     "data": {
      "text/plain": [
       "((512, 512, 39), (512, 512, 39))"
      ]
     },
     "execution_count": 288,
     "metadata": {},
     "output_type": "execute_result"
    }
   ],
   "source": [
    "# load image as integers\n",
    "img_path = '../../datasets/nnUNet_used/nnUNet_raw_data_base/nnUNet_raw_data/Task008_HepaticVessel/imagesTs/hepaticvessel_003_0000.nii.gz'\n",
    "img = nibabel.load(img_path).get_fdata().astype(int)\n",
    "\n",
    "label_path = '../../datasets/nnUNet_pred/hepaticvessel_003.nii.gz'\n",
    "label = nibabel.load(label_path).get_fdata().astype(np.uint8)\n",
    "\n",
    "img.shape, label.shape"
   ]
  },
  {
   "cell_type": "code",
   "execution_count": 52,
   "id": "da32d703",
   "metadata": {},
   "outputs": [
    {
     "data": {
      "text/plain": [
       "((3, 258, 245, 49), (3, 258, 245, 49))"
      ]
     },
     "execution_count": 52,
     "metadata": {},
     "output_type": "execute_result"
    }
   ],
   "source": [
    "# load image as integers\n",
    "img_path = '../dataset/bak/MSD_Task008_HepaticVessel_x10/val/hepaticvessel_018.npy'\n",
    "image_fused = np.load(img_path)\n",
    "\n",
    "img_path = '../dataset/bak/MSD_Task008_HepaticVessel_x10/prednnUNet_allfolds/fold0train_fold0val/hepaticvessel_018.npy'\n",
    "image_fused_ = np.load(img_path)\n",
    "\n",
    "image_fused.shape, image_fused_.shape\n"
   ]
  },
  {
   "cell_type": "code",
   "execution_count": null,
   "id": "162f6331",
   "metadata": {},
   "outputs": [],
   "source": []
  },
  {
   "cell_type": "code",
   "execution_count": 450,
   "id": "5b78ef22",
   "metadata": {},
   "outputs": [],
   "source": []
  },
  {
   "cell_type": "code",
   "execution_count": null,
   "id": "239564a4",
   "metadata": {},
   "outputs": [],
   "source": []
  },
  {
   "cell_type": "code",
   "execution_count": 290,
   "id": "315e85a7",
   "metadata": {},
   "outputs": [],
   "source": [
    "img_d, img_h, img_w = label.shape\n",
    "label[label==2] = 0\n",
    "\n",
    "tmp = np.argwhere(label>0)\n",
    "zyx_0 = tmp.min(axis=0)\n",
    "zyx_1 = tmp.max(axis=0)"
   ]
  },
  {
   "cell_type": "code",
   "execution_count": null,
   "id": "68eba435",
   "metadata": {},
   "outputs": [],
   "source": []
  },
  {
   "cell_type": "code",
   "execution_count": 3,
   "id": "d091e865",
   "metadata": {},
   "outputs": [],
   "source": [
    "def crop_vessel(label, img, roi_boundary=10, resize=False):\n",
    "    img_d, img_h, img_w = label.shape\n",
    "    label[label==2] = 0\n",
    "    \n",
    "    tmp = np.argwhere(label>0)\n",
    "    zyx_0 = tmp.min(axis=0)\n",
    "    zyx_1 = tmp.max(axis=0)\n",
    "\n",
    "    label_crop = label[\n",
    "        zyx_0[0]-roi_boundary : zyx_1[0]+roi_boundary,\n",
    "        zyx_0[1]-roi_boundary : zyx_1[1]+roi_boundary,\n",
    "        zyx_0[2] : zyx_1[2]]\n",
    "    \n",
    "    img_crop = img[\n",
    "        zyx_0[0]-roi_boundary : zyx_1[0]+roi_boundary,\n",
    "        zyx_0[1]-roi_boundary : zyx_1[1]+roi_boundary,\n",
    "        zyx_0[2] : zyx_1[2]]\n",
    "    \n",
    "    if resize:\n",
    "        label_crop = zoom(label_crop, train_plan['original_spacings'][0][::-1], mode='nearest')\n",
    "\n",
    "    skel = skeletonize(label_crop)\n",
    "    \n",
    "    \n",
    "    return label_crop, skel, img_crop"
   ]
  },
  {
   "cell_type": "code",
   "execution_count": 4,
   "id": "a586908e",
   "metadata": {},
   "outputs": [],
   "source": [
    "def crop_vessel_bundle(label, img, roi_boundary=10, resize=False):\n",
    "    img_d, img_h, img_w = label.shape\n",
    "    #label[label==2] = 0\n",
    "    \n",
    "    tmp = np.argwhere(label>0)\n",
    "    zyx_0 = tmp.min(axis=0)\n",
    "    zyx_1 = tmp.max(axis=0)\n",
    "\n",
    "    label_crop = label[\n",
    "        zyx_0[0]-roi_boundary : zyx_1[0]+roi_boundary,\n",
    "        zyx_0[1]-roi_boundary : zyx_1[1]+roi_boundary,\n",
    "        zyx_0[2] : zyx_1[2]]\n",
    "    \n",
    "    img_crop = img[\n",
    "        zyx_0[0]-roi_boundary : zyx_1[0]+roi_boundary,\n",
    "        zyx_0[1]-roi_boundary : zyx_1[1]+roi_boundary,\n",
    "        zyx_0[2] : zyx_1[2]]\n",
    "    \n",
    "    if resize:\n",
    "        label_crop = zoom(label_crop, train_plan['original_spacings'][0][::-1], mode='nearest')\n",
    "\n",
    "    skel = skeletonize(label_crop)\n",
    "    \n",
    "    \n",
    "    return label_crop, skel, img_crop"
   ]
  },
  {
   "cell_type": "code",
   "execution_count": 407,
   "id": "c47ddefc",
   "metadata": {},
   "outputs": [],
   "source": [
    "label, skel, img = crop_vessel(label, img)\n",
    "\n",
    "skel_sep = sk_label(skel)\n",
    "\n",
    "label_sep = sk_label(label)"
   ]
  },
  {
   "cell_type": "code",
   "execution_count": 408,
   "id": "db5c3661",
   "metadata": {},
   "outputs": [
    {
     "data": {
      "text/plain": [
       "((270, 262, 29), (270, 262, 29))"
      ]
     },
     "execution_count": 408,
     "metadata": {},
     "output_type": "execute_result"
    }
   ],
   "source": [
    "img.shape, label.shape"
   ]
  },
  {
   "cell_type": "code",
   "execution_count": 414,
   "id": "f189807c",
   "metadata": {},
   "outputs": [
    {
     "data": {
      "text/plain": [
       "(array([2048458,       0,    3002,       0,       0,       0,       0,\n",
       "              0,       0,       0]),\n",
       " array([ 0.,  1.,  2.,  3.,  4.,  5.,  6.,  7.,  8.,  9., 10.]))"
      ]
     },
     "execution_count": 414,
     "metadata": {},
     "output_type": "execute_result"
    }
   ],
   "source": [
    "np.histogram(skel, bins=10, range=(0,10))"
   ]
  },
  {
   "cell_type": "code",
   "execution_count": 415,
   "id": "697fce0a",
   "metadata": {},
   "outputs": [
    {
     "data": {
      "text/plain": [
       "(array([1930919,   28730,   91811,       0,       0,       0,       0,\n",
       "              0,       0,       0]),\n",
       " array([ 0.,  1.,  2.,  3.,  4.,  5.,  6.,  7.,  8.,  9., 10.]))"
      ]
     },
     "execution_count": 415,
     "metadata": {},
     "output_type": "execute_result"
    }
   ],
   "source": [
    "np.histogram(label, bins=10, range=(0,10))"
   ]
  },
  {
   "cell_type": "code",
   "execution_count": 473,
   "id": "22bd4233",
   "metadata": {},
   "outputs": [
    {
     "data": {
      "text/plain": [
       "<Image layer 'img' at 0x7fdc172ab7f0>"
      ]
     },
     "execution_count": 473,
     "metadata": {},
     "output_type": "execute_result"
    }
   ],
   "source": [
    "v.close()\n",
    "v = napari.Viewer(ndisplay=3)\n",
    "\n",
    "v.add_labels(\n",
    "    data=label,\n",
    "    color={1: 'royalblue',}, opacity=0.75, visible=True, name='mask')\n",
    "\n",
    "v.add_labels(\n",
    "    data=pred_list[0],\n",
    "    color={1: 'lime'}, opacity=0.5, visible=False, name='pred0')\n",
    "\n",
    "v.add_labels(\n",
    "    data=pred_list[1],\n",
    "    color={1: 'lime'}, opacity=0.5, visible=False, name='pred1')\n",
    "\n",
    "v.add_labels(\n",
    "    data=pred_list[2],\n",
    "    color={1: 'lime'}, opacity=0.5, visible=False, name='pred2')\n",
    "\n",
    "v.add_image(\n",
    "    data=img,\n",
    "    opacity=0.7,\n",
    "    contrast_limits=[0, 512],\n",
    "    visible=True)"
   ]
  },
  {
   "cell_type": "raw",
   "id": "8474cbd8",
   "metadata": {},
   "source": [
    "v.close()\n",
    "v = napari.Viewer(ndisplay=3)\n",
    "\n",
    "v.add_labels(\n",
    "    data=skel_sep,\n",
    "     opacity=1., visible=False, name='skel_sep')\n",
    "\n",
    "v.add_labels(\n",
    "    data=label_sep,\n",
    "     opacity=1., visible=False, name='label_sep')\n",
    "\n",
    "v.add_labels(\n",
    "    data=skel,\n",
    "    color={2: 'cyan'}, opacity=1., visible=True, name='skel')\n",
    "\n",
    "v.add_labels(\n",
    "    data=label,\n",
    "    color={1: 'royalblue', 2: 'yellow'}, opacity=0.5, visible=True, name='mask')\n",
    "\n",
    "v.add_image(\n",
    "    data=img,\n",
    "    opacity=0.7,\n",
    "    contrast_limits=[0, 512],\n",
    "    visible=True)"
   ]
  },
  {
   "cell_type": "code",
   "execution_count": 354,
   "id": "de9431f5",
   "metadata": {},
   "outputs": [],
   "source": [
    "image_fused = cropvessel(label, img)"
   ]
  },
  {
   "cell_type": "code",
   "execution_count": 54,
   "id": "b8781cab",
   "metadata": {},
   "outputs": [
    {
     "data": {
      "text/plain": [
       "<Labels layer 'mask_pred' at 0x7fa72fd0b970>"
      ]
     },
     "execution_count": 54,
     "metadata": {},
     "output_type": "execute_result"
    }
   ],
   "source": [
    "v.close()\n",
    "v = napari.Viewer(ndisplay=3)\n",
    "\n",
    "v.add_labels(\n",
    "    data=image_fused[2],\n",
    "    color={1: 'cyan'}, opacity=1., visible=False, name='skel')\n",
    "\n",
    "v.add_labels(\n",
    "    data=image_fused[1],\n",
    "    color={1: 'papayawhip'}, opacity=0.5, visible=False, name='mask')\n",
    "\n",
    "v.add_image(\n",
    "    data=image_fused[0],\n",
    "    opacity=0.7,\n",
    "    contrast_limits=[0, 512],\n",
    "    visible=True)\n",
    "\n",
    "\n",
    "v.add_labels(\n",
    "    data=image_fused_[2],\n",
    "    color={1: 'blue'}, opacity=1., visible=False, name='skel_pred')\n",
    "\n",
    "v.add_labels(\n",
    "    data=image_fused_[1],\n",
    "    color={1: 'orange'}, opacity=0.5, visible=False, name='mask_pred')"
   ]
  },
  {
   "cell_type": "code",
   "execution_count": null,
   "id": "ee13edbe",
   "metadata": {},
   "outputs": [],
   "source": []
  },
  {
   "cell_type": "markdown",
   "id": "71d49d92",
   "metadata": {},
   "source": [
    "### Calculate Dice of fold0 model on each foldval"
   ]
  },
  {
   "cell_type": "code",
   "execution_count": 31,
   "id": "8f3317e5",
   "metadata": {},
   "outputs": [
    {
     "name": "stdout",
     "output_type": "stream",
     "text": [
      "\n",
      " hepaticvessel_080\n",
      "0.8205532765330809 0.9629569012547736\n",
      "0.8240167802831673 0.9791633102411256\n",
      "0.8392339544513457 0.9657780195865071\n",
      "0.8510093247258941 0.9714301174178886\n",
      "0.8429470642864514 0.96318315697611\n",
      "\n",
      " hepaticvessel_082\n",
      "0.832874957615944 0.8378393643860376\n",
      "0.8801286917543288 0.9501496700455814\n",
      "0.8917072123640527 0.939726545054794\n",
      "0.8989550753483082 0.9458107046487003\n",
      "0.8961696062711563 0.9303748115545235\n",
      "\n",
      " hepaticvessel_084\n",
      "0.6889533198028414 0.9563154153723465\n",
      "0.8636409328508243 0.9762577238147799\n",
      "0.8419300312451979 0.9788372189848218\n",
      "0.8413959208773188 0.9823695193838475\n",
      "0.8393141331690539 0.9679468997310077\n"
     ]
    }
   ],
   "source": [
    "def getDice(pred, target, target_idx=1, epsilon=1):\n",
    "    pred = pred[target==target_idx].flatten()>0\n",
    "    target = target[target==target_idx].flatten()>0\n",
    "\n",
    "    intersection = (pred * target).sum()\n",
    "    dice = (2.*intersection + epsilon)/(pred.sum() + target.sum() + epsilon)\n",
    "\n",
    "    return dice\n",
    "\n",
    "for sample_name in split_info[0]['val'][10:13]:\n",
    "    print('\\n', sample_name)\n",
    "    idx = int(sample_name[-3:])\n",
    "    img_path = '../../datasets/nnUNet_used/nnUNet_raw_data_base/nnUNet_raw_data/Task008_HepaticVessel/imagesTr/hepaticvessel_{:03d}_0000.nii.gz'.format(idx)\n",
    "    img = nibabel.load(img_path).get_fdata().astype(int)\n",
    "\n",
    "    label_path = '../../datasets/nnUNet_used/nnUNet_raw_data_base/nnUNet_raw_data/Task008_HepaticVessel/labelsTr/hepaticvessel_{:03d}.nii.gz'.format(idx)\n",
    "    label = nibabel.load(label_path).get_fdata().astype(np.uint8)\n",
    "\n",
    "    pred_list = []\n",
    "    for i in range(5):\n",
    "        pred_path = '../../datasets/nnUNet_pred/fold{:d}train_fold0val/hepaticvessel_{:03d}.nii.gz'.format(i, idx)\n",
    "        pred_list.append(nibabel.load(pred_path).get_fdata().astype(np.uint8))\n",
    "\n",
    "    pred_list = np.array(pred_list)   \n",
    "    \n",
    "    for pred in pred_list:\n",
    "        print(getDice(pred, label, target_idx=1), getDice(pred, label, target_idx=2))"
   ]
  },
  {
   "cell_type": "code",
   "execution_count": null,
   "id": "0e22291a",
   "metadata": {},
   "outputs": [],
   "source": []
  },
  {
   "cell_type": "markdown",
   "id": "51a192ac",
   "metadata": {},
   "source": [
    "## pkl loader"
   ]
  },
  {
   "cell_type": "code",
   "execution_count": 5,
   "id": "61ec0ae5",
   "metadata": {},
   "outputs": [],
   "source": [
    "from batchgenerators.utilities.file_and_folder_operations import load_pickle"
   ]
  },
  {
   "cell_type": "code",
   "execution_count": 6,
   "id": "cd93ae18",
   "metadata": {},
   "outputs": [],
   "source": [
    "train_plan = load_pickle(\n",
    "    '../../datasets/nnUNet_used/nnUNet_trained_models/nnUNet/3d_fullres/Task008_HepaticVessel/nnUNetTrainerV2__nnUNetPlansv2.1/plans.pkl')"
   ]
  },
  {
   "cell_type": "code",
   "execution_count": 7,
   "id": "c4301822",
   "metadata": {},
   "outputs": [],
   "source": [
    "split_info = load_pickle(\n",
    "    '../../datasets/nnUNet_used/nnUNet_preprocessed/Task008_HepaticVessel/splits_final.pkl')"
   ]
  },
  {
   "cell_type": "code",
   "execution_count": 8,
   "id": "5cb87d6d",
   "metadata": {
    "scrolled": true
   },
   "outputs": [
    {
     "data": {
      "text/plain": [
       "(5, 2, 242, 61)"
      ]
     },
     "execution_count": 8,
     "metadata": {},
     "output_type": "execute_result"
    }
   ],
   "source": [
    "len(split_info), len(split_info[0]), len(split_info[0]['train']),  len(split_info[0]['val'])"
   ]
  },
  {
   "cell_type": "code",
   "execution_count": 9,
   "id": "4e39ae01",
   "metadata": {
    "scrolled": true
   },
   "outputs": [
    {
     "data": {
      "text/plain": [
       "(5, 2, 242, 61)"
      ]
     },
     "execution_count": 9,
     "metadata": {},
     "output_type": "execute_result"
    }
   ],
   "source": [
    "len(split_info), len(split_info[1]), len(split_info[1]['train']),  len(split_info[1]['val'])"
   ]
  },
  {
   "cell_type": "markdown",
   "id": "e39bd01a",
   "metadata": {},
   "source": [
    "#### Put volume in the corresponding fold folder to nnUNet inference"
   ]
  },
  {
   "cell_type": "raw",
   "id": "710a4101",
   "metadata": {},
   "source": [
    "\n",
    "for fold_cur in range(1, 5):\n",
    "    #fold_cur = 1\n",
    "    for img_id in split_info[fold_cur]['val']:\n",
    "        img_name = img_id + '_0000.nii.gz'\n",
    "        img_path = os.path.join(origdataset_dir, 'imagesTr', img_name)\n",
    "        shutil.copy(img_path, img_path.replace('imagesTr/', 'imagesTs_valfold{:d}/'.format(fold_cur)))\n",
    "        #break\n",
    "    "
   ]
  },
  {
   "cell_type": "markdown",
   "id": "76d394e4",
   "metadata": {},
   "source": [
    "#### Convert .nii.gz into .npy for evaluation (fold0train_fold0val)"
   ]
  },
  {
   "cell_type": "code",
   "execution_count": 47,
   "id": "8dd27e72",
   "metadata": {},
   "outputs": [],
   "source": [
    "def cropvessel(label, img, pred=None, resize=False):\n",
    "    '''\n",
    "    Cropping img, label, and pred together can ensure\n",
    "    the patches are in the same size.\n",
    "    The crop area is based on GT mask.\n",
    "    '''\n",
    "    #img_d, img_h, img_w = label.shape\n",
    "    #zy_padding, x_padding = [0, 0]\n",
    "    zy_padding, x_padding = [5, 10] # x10\n",
    "    #zy_padding, x_padding = [16, 16] # zyx16\n",
    "    \n",
    "    label[label==2] = 0\n",
    "    \n",
    "    tmp = np.argwhere(label>0)\n",
    "    zyx_0 = tmp.min(axis=0)\n",
    "    zyx_1 = tmp.max(axis=0)\n",
    "\n",
    "    label_crop = label[\n",
    "        zyx_0[0]-zy_padding : zyx_1[0]+zy_padding,\n",
    "        zyx_0[1]-zy_padding : zyx_1[1]+zy_padding,\n",
    "        zyx_0[2] : zyx_1[2]]\n",
    "    \n",
    "    img_crop = img[\n",
    "        zyx_0[0]-zy_padding : zyx_1[0]+zy_padding,\n",
    "        zyx_0[1]-zy_padding : zyx_1[1]+zy_padding,\n",
    "        zyx_0[2] : zyx_1[2]]\n",
    "    \n",
    "    if resize:\n",
    "        label_crop = zoom(label_crop, train_plan['original_spacings'][0][::-1], mode='nearest')\n",
    "\n",
    "    skel = skeletonize(label_crop)\n",
    "    \n",
    "    # Reduce file size. Safe conversion from int32 to int16 because image in [-1024, 1024].\n",
    "    assert (img.min() >= -32768) and (img.max() <= 32767), 'Conversion failed due to Image value out of int16!'\n",
    "    image_fused = np.array([img_crop, label_crop, skel], dtype=np.int16)\n",
    "    # Padding x-axis.\n",
    "    padding_fused = np.zeros((*image_fused.shape[:3], x_padding), dtype=np.int16)\n",
    "    image_fused = np.concatenate([padding_fused, image_fused, padding_fused], axis=3)\n",
    "        \n",
    "    if np.any(pred):\n",
    "        pred[pred==2] = 0\n",
    "        pred_crop = pred[\n",
    "            zyx_0[0]-zy_padding : zyx_1[0]+zy_padding,\n",
    "            zyx_0[1]-zy_padding : zyx_1[1]+zy_padding,\n",
    "            zyx_0[2] : zyx_1[2]]\n",
    "        skel_pred = skeletonize(pred_crop)\n",
    "        \n",
    "        image_fused_pred = np.array([img_crop, pred_crop, skel_pred], dtype=np.int16)\n",
    "        # Padding x-axis.\n",
    "        padding_fused = np.zeros((*image_fused.shape[:3], x_padding), dtype=np.int16)\n",
    "        image_fused_pred = np.concatenate([padding_fused, image_fused_pred, padding_fused], axis=3)\n",
    "        \n",
    "        return image_fused, image_fused_pred\n",
    "    \n",
    "    return image_fused"
   ]
  },
  {
   "cell_type": "raw",
   "id": "be6a906a",
   "metadata": {},
   "source": [
    "for subset in ['val', 'train']:\n",
    "    #subset = 'val' # 'val'\n",
    "    dataset_dir = '/home/oct3090/codes/datasets/nnUNet_used/nnUNet_raw_data_base/nnUNet_raw_data/Task008_HepaticVessel/'\n",
    "    saved_dir = '/home/oct3090/codes/ODT_3D/dataset/MSD_Task008_HepaticVessel/' + subset\n",
    "\n",
    "    for idx in tqdm(split_info[0][subset]):\n",
    "        img_name = idx + '_0000.nii.gz'\n",
    "        img_path = os.path.join(dataset_dir, 'imagesTr', img_name)\n",
    "\n",
    "        img = nibabel.load(img_path).get_fdata().astype(np.int32)\n",
    "\n",
    "        label_path = img_path.replace('imagesTr', 'labelsTr').replace('_0000', '')\n",
    "        label = nibabel.load(label_path).get_fdata().astype(np.int32)\n",
    "\n",
    "        image_fused = cropvessel(label, img)\n",
    "        np.save(os.path.join(saved_dir, idx+'.npy'), image_fused, allow_pickle=False)"
   ]
  },
  {
   "cell_type": "code",
   "execution_count": null,
   "id": "1d3f5fa5",
   "metadata": {},
   "outputs": [],
   "source": []
  },
  {
   "cell_type": "code",
   "execution_count": 11,
   "id": "2eb289ce",
   "metadata": {
    "scrolled": false
   },
   "outputs": [
    {
     "data": {
      "text/plain": [
       "['../../datasets/nnUNet_pred/fold0train_fold0val/hepaticvessel_018.nii.gz',\n",
       " '../../datasets/nnUNet_pred/fold0train_fold0val/hepaticvessel_019.nii.gz',\n",
       " '../../datasets/nnUNet_pred/fold0train_fold0val/hepaticvessel_026.nii.gz']"
      ]
     },
     "execution_count": 11,
     "metadata": {},
     "output_type": "execute_result"
    }
   ],
   "source": [
    "predlist_nnUNet = glob('../../datasets/nnUNet_pred/fold0train_fold0val/*.nii.gz')\n",
    "predlist_nnUNet.sort()\n",
    "predlist_nnUNet[:3]"
   ]
  },
  {
   "cell_type": "code",
   "execution_count": 59,
   "id": "34422b55",
   "metadata": {
    "scrolled": false
   },
   "outputs": [
    {
     "data": {
      "text/plain": [
       "['../../datasets/nnUNet_pred/fold0train_fold0val/hepaticvessel_018.nii.gz',\n",
       " '../../datasets/nnUNet_pred/fold0train_fold0val/hepaticvessel_019.nii.gz',\n",
       " '../../datasets/nnUNet_pred/fold0train_fold0val/hepaticvessel_026.nii.gz']"
      ]
     },
     "execution_count": 59,
     "metadata": {},
     "output_type": "execute_result"
    }
   ],
   "source": [
    "predlist_nnUNet = glob(os.path.join('../../datasets/nnUNet_pred', 'fold0train_fold0val/*.nii.gz'))\n",
    "predlist_nnUNet.sort()\n",
    "predlist_nnUNet[:3]"
   ]
  },
  {
   "cell_type": "markdown",
   "id": "df16a762",
   "metadata": {},
   "source": [
    "#### Convert .nii.gz into .npy for training (fold_i_train_fold_i_val)"
   ]
  },
  {
   "cell_type": "code",
   "execution_count": null,
   "id": "cd6aeb53",
   "metadata": {},
   "outputs": [],
   "source": [
    "subset = 'val' # 'val'\n",
    "\n",
    "pred_dir = '../../datasets/nnUNet_pred/fold0train_fold0val/'\n",
    "for fold_cur in range(5):\n",
    "    pred_dir = '/home/oct3090/codes/datasets/nnUNet_pred/fold{:d}train_fold{:d}val/'.format(fold_cur, fold_cur)\n",
    "    saved_dir = '/home/oct3090/codes/ODT_3D/dataset/bak/MSD_Task008_HepaticVessel_x10/prednnUNet_allfolds/fold{:d}train_fold{:d}val/'.format(fold_cur, fold_cur)\n",
    "    if not os.path.exists(saved_dir):\n",
    "        os.mkdir(saved_dir)\n",
    "    for idx in tqdm(split_info[fold_cur][subset]):\n",
    "        img_name = idx + '_0000.nii.gz'\n",
    "        img_path = os.path.join(origdataset_dir, 'imagesTr', img_name)\n",
    "        img = nibabel.load(img_path).get_fdata().astype(np.int32)\n",
    "\n",
    "        label_path = img_path.replace('imagesTr', 'labelsTr').replace('_0000', '')\n",
    "        label = nibabel.load(label_path).get_fdata().astype(np.int32)\n",
    "\n",
    "        pred_path = os.path.join(pred_dir, idx + '.nii.gz')\n",
    "        pred = nibabel.load(pred_path).get_fdata().astype(np.int32)\n",
    "\n",
    "        image_fused, image_fused_pred = cropvessel(label, img, pred)\n",
    "        np.save(os.path.join(saved_dir, idx+'.npy'), image_fused_pred, allow_pickle=False)\n",
    "        #break\n",
    "    #break"
   ]
  },
  {
   "cell_type": "code",
   "execution_count": 43,
   "id": "af967d79",
   "metadata": {},
   "outputs": [],
   "source": [
    "# annotation/val used.\n",
    "tmp_x10 = np.load('/home/oct3090/codes/ODT_3D/dataset/MSD_Task008_HepaticVessel/val/hepaticvessel_018.npy')"
   ]
  },
  {
   "cell_type": "code",
   "execution_count": 33,
   "id": "7d1337cc",
   "metadata": {},
   "outputs": [],
   "source": [
    "tmp_x16 = np.load('/home/oct3090/codes/ODT_3D/dataset/bak/MSD_Task008_HepaticVessel_zyx16/val/hepaticvessel_018.npy')"
   ]
  },
  {
   "cell_type": "code",
   "execution_count": 37,
   "id": "91823924",
   "metadata": {},
   "outputs": [
    {
     "data": {
      "text/plain": [
       "((3, 258, 245, 49), (3, 280, 267, 61), array([ 0, 22, 22, 12]))"
      ]
     },
     "execution_count": 37,
     "metadata": {},
     "output_type": "execute_result"
    }
   ],
   "source": [
    "tmp.shape, tmp_x16.shape, np.array(tmp_x16.shape) - np.array(tmp.shape)"
   ]
  },
  {
   "cell_type": "code",
   "execution_count": 44,
   "id": "889ecd27",
   "metadata": {},
   "outputs": [
    {
     "data": {
      "text/plain": [
       "((3, 258, 245, 49), (3, 280, 267, 61), array([ 0, 22, 22, 12]))"
      ]
     },
     "execution_count": 44,
     "metadata": {},
     "output_type": "execute_result"
    }
   ],
   "source": [
    "tmp_x10.shape, tmp_x16.shape, np.array(tmp_x16.shape) - np.array(tmp_x10.shape)"
   ]
  }
 ],
 "metadata": {
  "kernelspec": {
   "display_name": "dev-reck-med",
   "language": "python",
   "name": "dev-reck-med"
  },
  "language_info": {
   "codemirror_mode": {
    "name": "ipython",
    "version": 3
   },
   "file_extension": ".py",
   "mimetype": "text/x-python",
   "name": "python",
   "nbconvert_exporter": "python",
   "pygments_lexer": "ipython3",
   "version": "3.10.5"
  }
 },
 "nbformat": 4,
 "nbformat_minor": 5
}
