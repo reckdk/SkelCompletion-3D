{
 "cells": [
  {
   "cell_type": "code",
   "execution_count": 1,
   "id": "38381a1a",
   "metadata": {},
   "outputs": [
    {
     "name": "stderr",
     "output_type": "stream",
     "text": [
      "/home/oct3090/anaconda3/envs/dev-reck-py39/lib/python3.9/site-packages/tqdm/auto.py:22: TqdmWarning: IProgress not found. Please update jupyter and ipywidgets. See https://ipywidgets.readthedocs.io/en/stable/user_install.html\n",
      "  from .autonotebook import tqdm as notebook_tqdm\n"
     ]
    }
   ],
   "source": [
    "import os\n",
    "os.environ[\"CUDA_VISIBLE_DEVICES\"]=\"0\"\n",
    "import copy\n",
    "from glob import glob\n",
    "import gc\n",
    "import torch\n",
    "from torch import nn\n",
    "import torch.nn.functional as F\n",
    "from torch.utils.data import DataLoader\n",
    "from timeit import default_timer as timer\n",
    "\n",
    "from utils import get_config_from_json\n",
    "from backbone.unet3d import UNet_ODT\n",
    "\n",
    "\n",
    "import numpy as np\n",
    "from scipy.ndimage import distance_transform_edt\n",
    "import pandas as pd\n",
    "from skimage.morphology import skeletonize\n",
    "import napari\n",
    "from scipy.spatial import distance_matrix\n",
    "from skimage.draw import line_nd\n",
    "import skimage.io as skio\n",
    "\n",
    "from matplotlib import pyplot as plt\n",
    "%matplotlib inline\n",
    "\n",
    "# Load AmiraGlow colormap\n",
    "from scipy import io\n",
    "cm_mat = io.loadmat('./weights/AmiraHotmap.mat')\n",
    "from matplotlib.colors import ListedColormap\n",
    "amiraglow = ListedColormap(cm_mat['AmiraHot'])\n",
    "\n",
    "colormap_array = np.concatenate((cm_mat['AmiraHot'], np.ones((256, 1))), axis=1)\n",
    "cm_napari_amiraglow = napari.utils.Colormap(\n",
    "        colors=colormap_array, display_name='AmiraGlow')"
   ]
  },
  {
   "cell_type": "code",
   "execution_count": 2,
   "id": "195b48d2",
   "metadata": {
    "scrolled": false
   },
   "outputs": [
    {
     "name": "stdout",
     "output_type": "stream",
     "text": [
      "7182401 7182401\n"
     ]
    },
    {
     "data": {
      "text/plain": [
       "{'model_name': 'odt3d_vt_unet_S2_skelHinge_valHinge_bz256_multibreaks',\n",
       " 'dataset': 'ODT',\n",
       " 'CLS_branch': False,\n",
       " 'SEG_branch': False,\n",
       " 'EDT_branch': True,\n",
       " 'epochs': 200,\n",
       " 'save_period': 40,\n",
       " 'learning_rate': 0.001,\n",
       " 'sample_per_batch': 20,\n",
       " 'batch_size': 224,\n",
       " 'batch_size_val': 256,\n",
       " 'patch_size': [32, 32, 32],\n",
       " 'ratio': 0.5,\n",
       " 'ft_num': 8,\n",
       " 'bgmean_weight': 1.0,\n",
       " 'skelloss_weight': 1,\n",
       " 'clsloss_weight': 1}"
      ]
     },
     "execution_count": 2,
     "metadata": {},
     "output_type": "execute_result"
    }
   ],
   "source": [
    "device = 'cuda:0'\n",
    "\n",
    "model = UNet_ODT()\n",
    "model_path = './weights/model_weights_best.pth'\n",
    "model.load_state_dict(torch.load(model_path))\n",
    "pytorch_total_params = sum(p.numel() for p in model.parameters())\n",
    "pytorch_totaltrainable_params = sum(p.numel() for p in model.parameters() if p.requires_grad)\n",
    "print(pytorch_total_params, pytorch_totaltrainable_params)\n",
    "\n",
    "model = model.to(device)\n",
    "model.eval()\n",
    "\n",
    "config = get_config_from_json('config_unet.json')\n",
    "config"
   ]
  },
  {
   "cell_type": "markdown",
   "id": "27d79ba5",
   "metadata": {},
   "source": [
    "## Inference"
   ]
  },
  {
   "cell_type": "code",
   "execution_count": 3,
   "id": "32e00a48",
   "metadata": {},
   "outputs": [],
   "source": [
    "# Load ODT inference samples.\n",
    "image_fused_patch = np.load('./dataset/odt_testing.npy')"
   ]
  },
  {
   "cell_type": "code",
   "execution_count": 15,
   "id": "85a8f2e2",
   "metadata": {},
   "outputs": [
    {
     "data": {
      "image/png": "[encoded data removed]",
      "text/plain": [
       "<Figure size 432x288 with 1 Axes>"
      ]
     },
     "metadata": {
      "needs_background": "light"
     },
     "output_type": "display_data"
    }
   ],
   "source": [
    "torch.manual_seed(20221027)\n",
    "with torch.no_grad():\n",
    "    X_input = torch.from_numpy(image_fused_patch[:, 2:3]).to(device)\n",
    "\n",
    "    with torch.cuda.amp.autocast():\n",
    "        output_skel = model(X_input)\n",
    "        #loss_skel = loss_fn_skel(output_skel, X_GT_input, roi_mask_input)\n",
    "    output_skel = output_skel.detach().cpu().numpy()\n",
    "    \n",
    "idx_patch = -1\n",
    "plt.hist(output_skel.flatten());"
   ]
  },
  {
   "cell_type": "code",
   "execution_count": 16,
   "id": "15240d45",
   "metadata": {},
   "outputs": [
    {
     "name": "stdout",
     "output_type": "stream",
     "text": [
      "IDX-000: \n"
     ]
    },
    {
     "data": {
      "image/png": "[encoded data removed]",
      "text/plain": [
       "<Figure size 576x576 with 4 Axes>"
      ]
     },
     "metadata": {
      "needs_background": "light"
     },
     "output_type": "display_data"
    }
   ],
   "source": [
    "idx_patch += 1\n",
    "# 3D pred. mk2 for skeleton and mk3 for skelmap vis..\n",
    "pred_mk2 = np.max(np.array(\n",
    "    [image_fused_patch[idx_patch, 2],\n",
    "     output_skel[idx_patch, 0].astype(np.float32)>0.5\n",
    "    ]), axis=0)\n",
    "pred_mk2 = output_skel[idx_patch, 0].astype(np.float32)>0.5\n",
    "pred_mk2_skel = skeletonize(pred_mk2)\n",
    "# Only show difference between pred and input.\n",
    "pred_mk2_skel_only = pred_mk2_skel - 255*image_fused_patch[idx_patch, 2]\n",
    "pred_mk2_skel_only[pred_mk2_skel_only > 0] = 255\n",
    "pred_mk2_skel_only[pred_mk2_skel_only <= 0] = 0\n",
    "\n",
    "# Prediction only for missing region.\n",
    "pred_mk3_mask = output_skel[idx_patch, 0].astype(np.float32)>0.5\n",
    "pred_mk3_maskonly = np.logical_and(\n",
    "    pred_mk3_mask, np.logical_not(image_fused_patch[idx_patch, 2].astype(np.bool8)))\n",
    "pred_mk3 = output_skel[idx_patch, 0] * pred_mk3_maskonly\n",
    "pred_mk3_skel = skeletonize(pred_mk3)\n",
    "\n",
    "\n",
    "plt.figure(figsize=(8,8))\n",
    "plt.subplot(221)\n",
    "image_patch_vis = np.max(image_fused_patch[idx_patch, 0], axis=0)\n",
    "plt.imshow(image_patch_vis, vmin=0, vmax=1, cmap='hot')\n",
    "plt.axis('off')\n",
    "\n",
    "plt.subplot(222)\n",
    "plt.imshow(np.max(image_fused_patch[idx_patch, 1], axis=0), cmap='gray')\n",
    "plt.axis('off')\n",
    "\n",
    "plt.subplot(223)\n",
    "plt.imshow(np.max(image_fused_patch[idx_patch, 2], axis=0), cmap='gray')\n",
    "plt.axis('off')\n",
    "\n",
    "plt.subplot(224)\n",
    "plt.imshow(np.max(output_skel[idx_patch, 0], axis=0), vmin=0, vmax=1, cmap='gray')\n",
    "plt.axis('off')\n",
    "\n",
    "\n",
    "plt.tight_layout()\n",
    "\n",
    "print('IDX-{:03d}: '.format(idx_patch))"
   ]
  },
  {
   "cell_type": "markdown",
   "id": "dda7c27f",
   "metadata": {},
   "source": [
    "####  napari visualization in 3D"
   ]
  },
  {
   "cell_type": "code",
   "execution_count": 20,
   "id": "03914840",
   "metadata": {
    "scrolled": false
   },
   "outputs": [],
   "source": [
    "pr = 31\n",
    "# (z,y,x): z=0 is front;\n",
    "#          z\n",
    "#         /\n",
    "# (0,0,0)/__x\n",
    "#        |\n",
    "#        y\n",
    "\n",
    "bounding_box_all = np.array(\n",
    "    [\n",
    "        [0, 0, 0],\n",
    "        [pr, 0, 0],\n",
    "        [0, pr, 0],\n",
    "        [pr, pr, 0], # Block bottom-back-left point.\n",
    "        [0, 0, pr],\n",
    "        [pr, 0, pr],\n",
    "        [0, pr, pr],\n",
    "        [pr, pr, pr],\n",
    "    ]\n",
    ")\n",
    "\n",
    "edge_all = np.array([\n",
    "    # Right\n",
    "    [[0, 0, pr],\n",
    "     [0, pr, pr],\n",
    "     [pr, pr, pr],\n",
    "     [pr, 0, pr]],\n",
    "    \n",
    "    # front\n",
    "    [[0, 0, 0],\n",
    "     [0, 0, pr],\n",
    "     [0, pr, pr],\n",
    "     [0, pr, 0]],\n",
    "    \n",
    "    # up\n",
    "    [[0, 0, 0],\n",
    "     [pr, 0, 0],\n",
    "     [pr, 0, pr],\n",
    "     [0, 0, pr]],\n",
    "    \n",
    "    # left\n",
    "    [[0, 0, 0],\n",
    "     [pr, 0, 0],\n",
    "     [pr, pr, 0],\n",
    "     [0, pr, 0]],\n",
    "\n",
    "    # back\n",
    "    [[pr, 0, 0],\n",
    "     [pr, 0, pr],\n",
    "     [pr, pr, pr],\n",
    "     [pr, pr, 0]],\n",
    "\n",
    "    # bottom\n",
    "    [[0, pr, 0],\n",
    "     [0, pr, pr],\n",
    "     [pr, pr, pr],\n",
    "     [pr, pr, 0]],\n",
    "])\n",
    "\n",
    "viewangle_dict = {}\n",
    "\n",
    "\n",
    "if 'viewer_vt_test' in locals() or 'viewer_vt_test' in globals():\n",
    "    viewer_vt_test.close()\n",
    "\n",
    "viewer_vt_test = napari.Viewer(ndisplay=3)\n",
    "\n",
    "viewer_vt_test.add_labels(\n",
    "    data=pred_mk2_skel_only.astype(np.uint8), color={255: 'cyan'},\n",
    "    opacity=1.0,  name='skel_pred')\n",
    "\n",
    "viewer_vt_test.add_labels(\n",
    "    data=image_fused_patch[idx_patch, 2].astype(np.uint8),\n",
    "    color={1: 'lightgray'}, opacity=1., name='skel_input')\n",
    "\n",
    "viewer_vt_test.add_image(\n",
    "    data=pred_mk3,\n",
    "    colormap='jet', opacity=1., blending='additive', visible=False, name='pred_mask')\n",
    "\n",
    "viewer_vt_test.add_labels(\n",
    "    data=image_fused_patch[idx_patch, 1].astype(np.uint8),\n",
    "    color={1: 'lightcoral'}, opacity=1., blending='additive', visible=False, name='mask_input')\n",
    "\n",
    "viewer_vt_test.add_image(\n",
    "    data=image_fused_patch[idx_patch, 0],\n",
    "    colormap=cm_napari_amiraglow,\n",
    "    contrast_limits=[1500/65535, 25000/65535],\n",
    "    opacity=0.7,\n",
    "    visible=False)\n",
    "\n",
    "viewer_vt_test.add_points(\n",
    "    data=[[0,0,0]],\n",
    "    symbol='disc',\n",
    "    size=1.5,\n",
    "    opacity=1,\n",
    "    face_color='red',\n",
    "    name='Origin',\n",
    "    visible=False\n",
    "    )\n",
    "\n",
    "if idx_patch in viewangle_dict:\n",
    "    viewer_vt_test.camera.angles = viewangle_dict[idx_patch][0]\n",
    "    bounding_box = np.delete(bounding_box_all, obj=viewangle_dict[idx_patch][1], axis=0)\n",
    "    edge = np.delete(edge_all, obj=viewangle_dict[idx_patch][2], axis=0)\n",
    "else:\n",
    "    bounding_box = bounding_box_all[[0,1,2,4,5,6,7]]\n",
    "    edge = edge_all\n",
    "\n",
    "    \n",
    "bounding_box_layer = viewer_vt_test.add_points(\n",
    "    data=bounding_box, symbol='square', size=1.1,\n",
    "    opacity=1.0, face_color='white', name='bounding box') # cornflowerblue\n",
    "\n",
    "bounding_box_layer = viewer_vt_test.add_shapes(\n",
    "    data=edge, edge_width=0.1,\n",
    "    opacity=0.5, edge_color='lime', face_color='transparent', name='bounding edge')\n"
   ]
  },
  {
   "cell_type": "code",
   "execution_count": null,
   "id": "0516b96f",
   "metadata": {},
   "outputs": [],
   "source": [
    "# Boundingbox part.\n",
    "viewangle_dict = {\n",
    "    1111: [[-1.23, 10.15, 80.48], 3, []],\n",
    "    0: [[  2.75, -26.38,  81.04], -1, [0,-2]],\n",
    "}\n",
    "\n",
    "print(np.around(np.array(viewer_vt_test.camera.angles), 2))"
   ]
  }
 ],
 "metadata": {
  "kernelspec": {
   "display_name": "dev-reck-py39",
   "language": "python",
   "name": "dev-reck-py39"
  },
  "language_info": {
   "codemirror_mode": {
    "name": "ipython",
    "version": 3
   },
   "file_extension": ".py",
   "mimetype": "text/x-python",
   "name": "python",
   "nbconvert_exporter": "python",
   "pygments_lexer": "ipython3",
   "version": "3.9.13"
  }
 },
 "nbformat": 4,
 "nbformat_minor": 5
}
